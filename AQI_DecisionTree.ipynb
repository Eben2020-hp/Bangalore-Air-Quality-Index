{
 "cells": [
  {
   "cell_type": "markdown",
   "source": [
    "<h1 align='center'>  Bangalore Air Quality Prediction </h1>\r\n",
    "<h3 align='center'>  To predict the Air Quality of Bangalore City from 2013-2018 </h3>"
   ],
   "metadata": {}
  },
  {
   "cell_type": "markdown",
   "source": [
    "## 0. Import relevant Dependencies\r\n",
    "\r\n",
    "Incase you are getting any error saying the package is not installed while running the below cell, then you can use two methods:\r\n",
    "- pip install ________.\r\n",
    "- google 'How to install ________'."
   ],
   "metadata": {}
  },
  {
   "cell_type": "code",
   "execution_count": 1,
   "source": [
    "# Import Dependencies -To see the graphs in the notebook.\r\n",
    "%matplotlib inline   \r\n",
    "\r\n",
    "# Python Imports\r\n",
    "import math,time,random,datetime\r\n",
    "\r\n",
    "# Data Manipulation\r\n",
    "import numpy as np\r\n",
    "import pandas as pd\r\n",
    "\r\n",
    "# Visualization -This is where the graphs come in.\r\n",
    "import matplotlib.pyplot as plt\r\n",
    "import seaborn as sns\r\n",
    "import missingno\r\n",
    "plt.style.use('fivethirtyeight')\r\n",
    "\r\n",
    "# Preprocessing\r\n",
    "from sklearn.preprocessing import OneHotEncoder, LabelEncoder, label_binarize\r\n",
    "\r\n",
    "# Ignore Warnings\r\n",
    "import warnings\r\n",
    "warnings.filterwarnings('ignore')\r\n",
    "\r\n",
    "# Display all the columns/rows of the DataFrame.\r\n",
    "pd.set_option('display.max_columns', None)\r\n",
    "pd.set_option('display.max_rows', None)"
   ],
   "outputs": [],
   "metadata": {}
  },
  {
   "cell_type": "markdown",
   "source": [
    "## 1. Loading the required Data"
   ],
   "metadata": {}
  },
  {
   "cell_type": "code",
   "execution_count": 2,
   "source": [
    "df = pd.read_csv('Data/Real-Data/Real_Combine.csv')\r\n",
    "df.head()"
   ],
   "outputs": [
    {
     "output_type": "execute_result",
     "data": {
      "text/plain": [
       "      T    TM    Tm     H   VV    V   VM      PM 2.5\n",
       "0  23.4  30.3  19.0  59.0  6.3  4.3  5.4  284.795833\n",
       "1  22.4  30.3  16.9  57.0  6.9  3.3  7.6  219.720833\n",
       "2  24.0  31.8  16.9  51.0  6.9  2.8  5.4  182.187500\n",
       "3  22.8  30.2  17.6  55.0  7.7  3.7  7.6  154.037500\n",
       "4  23.1  30.6  17.4  46.0  6.9  3.3  5.4  223.208333"
      ],
      "text/html": [
       "<div>\n",
       "<style scoped>\n",
       "    .dataframe tbody tr th:only-of-type {\n",
       "        vertical-align: middle;\n",
       "    }\n",
       "\n",
       "    .dataframe tbody tr th {\n",
       "        vertical-align: top;\n",
       "    }\n",
       "\n",
       "    .dataframe thead th {\n",
       "        text-align: right;\n",
       "    }\n",
       "</style>\n",
       "<table border=\"1\" class=\"dataframe\">\n",
       "  <thead>\n",
       "    <tr style=\"text-align: right;\">\n",
       "      <th></th>\n",
       "      <th>T</th>\n",
       "      <th>TM</th>\n",
       "      <th>Tm</th>\n",
       "      <th>H</th>\n",
       "      <th>VV</th>\n",
       "      <th>V</th>\n",
       "      <th>VM</th>\n",
       "      <th>PM 2.5</th>\n",
       "    </tr>\n",
       "  </thead>\n",
       "  <tbody>\n",
       "    <tr>\n",
       "      <th>0</th>\n",
       "      <td>23.4</td>\n",
       "      <td>30.3</td>\n",
       "      <td>19.0</td>\n",
       "      <td>59.0</td>\n",
       "      <td>6.3</td>\n",
       "      <td>4.3</td>\n",
       "      <td>5.4</td>\n",
       "      <td>284.795833</td>\n",
       "    </tr>\n",
       "    <tr>\n",
       "      <th>1</th>\n",
       "      <td>22.4</td>\n",
       "      <td>30.3</td>\n",
       "      <td>16.9</td>\n",
       "      <td>57.0</td>\n",
       "      <td>6.9</td>\n",
       "      <td>3.3</td>\n",
       "      <td>7.6</td>\n",
       "      <td>219.720833</td>\n",
       "    </tr>\n",
       "    <tr>\n",
       "      <th>2</th>\n",
       "      <td>24.0</td>\n",
       "      <td>31.8</td>\n",
       "      <td>16.9</td>\n",
       "      <td>51.0</td>\n",
       "      <td>6.9</td>\n",
       "      <td>2.8</td>\n",
       "      <td>5.4</td>\n",
       "      <td>182.187500</td>\n",
       "    </tr>\n",
       "    <tr>\n",
       "      <th>3</th>\n",
       "      <td>22.8</td>\n",
       "      <td>30.2</td>\n",
       "      <td>17.6</td>\n",
       "      <td>55.0</td>\n",
       "      <td>7.7</td>\n",
       "      <td>3.7</td>\n",
       "      <td>7.6</td>\n",
       "      <td>154.037500</td>\n",
       "    </tr>\n",
       "    <tr>\n",
       "      <th>4</th>\n",
       "      <td>23.1</td>\n",
       "      <td>30.6</td>\n",
       "      <td>17.4</td>\n",
       "      <td>46.0</td>\n",
       "      <td>6.9</td>\n",
       "      <td>3.3</td>\n",
       "      <td>5.4</td>\n",
       "      <td>223.208333</td>\n",
       "    </tr>\n",
       "  </tbody>\n",
       "</table>\n",
       "</div>"
      ]
     },
     "metadata": {},
     "execution_count": 2
    }
   ],
   "metadata": {}
  },
  {
   "cell_type": "code",
   "execution_count": 3,
   "source": [
    "print('Dimensionality of the obtained Data is: ', df.shape)"
   ],
   "outputs": [
    {
     "output_type": "stream",
     "name": "stdout",
     "text": [
      "Dimensionality of the obtained Data is:  (737, 8)\n"
     ]
    }
   ],
   "metadata": {}
  },
  {
   "cell_type": "markdown",
   "source": [
    "## 2. Feature Engineering"
   ],
   "metadata": {}
  },
  {
   "cell_type": "code",
   "execution_count": 4,
   "source": [
    "# Understanding more about the missing value columns\r\n",
    "\r\n",
    "def missing_values_table(df):\r\n",
    "    # number of missing values\r\n",
    "    mis_val = df.isnull().sum()\r\n",
    "\r\n",
    "    # % of missing values\r\n",
    "    mis_val_percent = 100 * mis_val / len(df)\r\n",
    "\r\n",
    "    # make table # axis '0' concat along index, '1' column\r\n",
    "    mis_val_table = pd.concat([mis_val,mis_val_percent], axis= 1) \r\n",
    "\r\n",
    "    # rename columns\r\n",
    "    mis_val_table_ren_columns = mis_val_table.rename(columns = {0: 'Missing Values', 1: '% of Total Values'})\r\n",
    "\r\n",
    "    # sort by column\r\n",
    "    mis_val_table_ren_columns = mis_val_table_ren_columns[mis_val_table_ren_columns.iloc[:,1]!= 0].sort_values(\r\n",
    "        '% of Total Values', ascending= False).round(1) #Review\r\n",
    "    print(\"Your selected dataset has \" + str(df.shape[1]) + \" columns and \" + str(len(df)) + \" observations.\\n\"\r\n",
    "         \"\\n There are \" + str(mis_val_table_ren_columns.shape[0]) + \" columns that have missing values.\")\r\n",
    "    \r\n",
    "    # return the dataframe with missing info\r\n",
    "    return mis_val_table_ren_columns\r\n",
    "\r\n",
    "missing_values_table(df)"
   ],
   "outputs": [
    {
     "output_type": "stream",
     "name": "stdout",
     "text": [
      "Your selected dataset has 8 columns and 737 observations.\n",
      "\n",
      " There are 1 columns that have missing values.\n"
     ]
    },
    {
     "output_type": "execute_result",
     "data": {
      "text/plain": [
       "        Missing Values  % of Total Values\n",
       "PM 2.5               1                0.1"
      ],
      "text/html": [
       "<div>\n",
       "<style scoped>\n",
       "    .dataframe tbody tr th:only-of-type {\n",
       "        vertical-align: middle;\n",
       "    }\n",
       "\n",
       "    .dataframe tbody tr th {\n",
       "        vertical-align: top;\n",
       "    }\n",
       "\n",
       "    .dataframe thead th {\n",
       "        text-align: right;\n",
       "    }\n",
       "</style>\n",
       "<table border=\"1\" class=\"dataframe\">\n",
       "  <thead>\n",
       "    <tr style=\"text-align: right;\">\n",
       "      <th></th>\n",
       "      <th>Missing Values</th>\n",
       "      <th>% of Total Values</th>\n",
       "    </tr>\n",
       "  </thead>\n",
       "  <tbody>\n",
       "    <tr>\n",
       "      <th>PM 2.5</th>\n",
       "      <td>1</td>\n",
       "      <td>0.1</td>\n",
       "    </tr>\n",
       "  </tbody>\n",
       "</table>\n",
       "</div>"
      ]
     },
     "metadata": {},
     "execution_count": 4
    }
   ],
   "metadata": {}
  },
  {
   "cell_type": "code",
   "execution_count": 5,
   "source": [
    "## Dropping the Null Values\r\n",
    "df = df.dropna()"
   ],
   "outputs": [],
   "metadata": {}
  },
  {
   "cell_type": "code",
   "execution_count": 6,
   "source": [
    "## Splitting our Data to Dependent and Independent Features\r\n",
    "X = df.iloc[:,:-1] ### Independent Features\r\n",
    "y = df.iloc[:,-1] ### Dependent Features"
   ],
   "outputs": [],
   "metadata": {}
  },
  {
   "cell_type": "code",
   "execution_count": 8,
   "source": [
    "## Understanding the Distribution\r\n",
    "sns.distplot(y)"
   ],
   "outputs": [
    {
     "output_type": "execute_result",
     "data": {
      "text/plain": [
       "<AxesSubplot:xlabel='PM 2.5', ylabel='Density'>"
      ]
     },
     "metadata": {},
     "execution_count": 8
    },
    {
     "output_type": "display_data",
     "data": {
      "text/plain": [
       "<Figure size 432x288 with 1 Axes>"
      ],
      "image/png": "[encoded data removed]"
     },
     "metadata": {}
    }
   ],
   "metadata": {}
  },
  {
   "cell_type": "code",
   "execution_count": 7,
   "source": [
    "from sklearn.model_selection import train_test_split\r\n",
    "X_train, X_test, y_train, y_test = train_test_split(X, y, test_size= 0.3, random_state= 42)"
   ],
   "outputs": [],
   "metadata": {}
  },
  {
   "cell_type": "markdown",
   "source": [
    "## 3 Decision Tree Regressor Model"
   ],
   "metadata": {}
  },
  {
   "cell_type": "code",
   "execution_count": 10,
   "source": [
    "from sklearn.tree import DecisionTreeRegressor\r\n",
    "dtree = DecisionTreeRegressor(criterion= 'mse')     ##Initializing Decision Tree by just the criterion."
   ],
   "outputs": [],
   "metadata": {}
  },
  {
   "cell_type": "code",
   "execution_count": 11,
   "source": [
    "dtree.fit(X_train, y_train)"
   ],
   "outputs": [
    {
     "output_type": "execute_result",
     "data": {
      "text/plain": [
       "DecisionTreeRegressor()"
      ]
     },
     "metadata": {},
     "execution_count": 11
    }
   ],
   "metadata": {}
  },
  {
   "cell_type": "code",
   "execution_count": 12,
   "source": [
    "print(f'Coefficient of Determination R2 <-- on train set is: {dtree.score(X_train, y_train)}')\r\n",
    "print()\r\n",
    "print(f'Coefficient of Determination R2 <-- on test set is: {dtree.score(X_test, y_test)}')"
   ],
   "outputs": [
    {
     "output_type": "stream",
     "name": "stdout",
     "text": [
      "Coefficient of Determination R2 <-- on train set is: 1.0\n",
      "\n",
      "Coefficient of Determination R2 <-- on test set is: -0.3475981711554288\n"
     ]
    }
   ],
   "metadata": {}
  },
  {
   "cell_type": "markdown",
   "source": [
    "- This is purely a situation of ***Overfitting***"
   ],
   "metadata": {}
  },
  {
   "cell_type": "code",
   "execution_count": 44,
   "source": [
    "## Trying with CrossValidation.\r\n",
    "from sklearn.model_selection import cross_val_score\r\n",
    "score = cross_val_score(dtree, X, y, cv = 5)        ## Because Cross inturn divides the datasets into train and test\r\n",
    "score.mean()"
   ],
   "outputs": [
    {
     "output_type": "execute_result",
     "data": {
      "text/plain": [
       "-0.29219107552475937"
      ]
     },
     "metadata": {},
     "execution_count": 44
    }
   ],
   "metadata": {}
  },
  {
   "cell_type": "markdown",
   "source": [
    "### Model Evaluation"
   ],
   "metadata": {}
  },
  {
   "cell_type": "code",
   "execution_count": 34,
   "source": [
    "## Predict\r\n",
    "prediction = dtree.predict(X_test)\r\n",
    "sns.distplot(y_test-prediction)"
   ],
   "outputs": [
    {
     "output_type": "execute_result",
     "data": {
      "text/plain": [
       "<AxesSubplot:xlabel='PM 2.5', ylabel='Density'>"
      ]
     },
     "metadata": {},
     "execution_count": 34
    },
    {
     "output_type": "display_data",
     "data": {
      "text/plain": [
       "<Figure size 432x288 with 1 Axes>"
      ],
      "image/png": "[encoded data removed]"
     },
     "metadata": {}
    }
   ],
   "metadata": {}
  },
  {
   "cell_type": "code",
   "execution_count": 35,
   "source": [
    "plt.scatter(y_test, prediction)"
   ],
   "outputs": [
    {
     "output_type": "execute_result",
     "data": {
      "text/plain": [
       "<matplotlib.collections.PathCollection at 0x1f1525d3d30>"
      ]
     },
     "metadata": {},
     "execution_count": 35
    },
    {
     "output_type": "display_data",
     "data": {
      "text/plain": [
       "<Figure size 432x288 with 1 Axes>"
      ],
      "image/png": "[encoded data removed]"
     },
     "metadata": {}
    }
   ],
   "metadata": {}
  },
  {
   "cell_type": "markdown",
   "source": [
    "### 3.1 HyperParameter Tuning - Decision Tree Regressor"
   ],
   "metadata": {}
  },
  {
   "cell_type": "code",
   "execution_count": 38,
   "source": [
    "## Hyper Parameter Optimization\r\n",
    "\r\n",
    "## Key Dictionary\r\n",
    "params = {\r\n",
    "    \"splitter\": ['best', 'random'],\r\n",
    "    \"max_depth\": [3, 4, 5, 6, 8, 10, 12, 15],\r\n",
    "    \"min_samples_leaf\": [1, 2, 3, 4, 5],\r\n",
    "    \"min_weight_fraction_leaf\": [0.1, 0.2, 0.3, 0.4, 0.5],\r\n",
    "    \"max_features\": ['auto', 'sqrt', 'log2', None],\r\n",
    "    \"max_leaf_nodes\": [None, 10, 20, 30, 40, 50, 60, 70]\r\n",
    "}"
   ],
   "outputs": [],
   "metadata": {}
  },
  {
   "cell_type": "code",
   "execution_count": 39,
   "source": [
    "## Hyper-Parameter Optimization Using GridSearchCV\r\n",
    "from sklearn.model_selection import GridSearchCV"
   ],
   "outputs": [],
   "metadata": {}
  },
  {
   "cell_type": "code",
   "execution_count": 40,
   "source": [
    "grid_search = GridSearchCV(dtree, param_grid= params, scoring= 'neg_mean_squared_error', n_jobs= -1, cv= 10, verbose= 3)"
   ],
   "outputs": [],
   "metadata": {}
  },
  {
   "cell_type": "code",
   "execution_count": 41,
   "source": [
    "grid_search.fit(X, y)"
   ],
   "outputs": [
    {
     "output_type": "stream",
     "name": "stdout",
     "text": [
      "Fitting 10 folds for each of 12800 candidates, totalling 128000 fits\n"
     ]
    },
    {
     "output_type": "stream",
     "name": "stderr",
     "text": [
      "[Parallel(n_jobs=-1)]: Using backend LokyBackend with 4 concurrent workers.\n",
      "[Parallel(n_jobs=-1)]: Done  24 tasks      | elapsed:   16.6s\n",
      "[Parallel(n_jobs=-1)]: Done 120 tasks      | elapsed:   20.2s\n",
      "[Parallel(n_jobs=-1)]: Done 376 tasks      | elapsed:   26.7s\n",
      "[Parallel(n_jobs=-1)]: Done 824 tasks      | elapsed:   34.4s\n",
      "[Parallel(n_jobs=-1)]: Done 1400 tasks      | elapsed:   45.7s\n",
      "[Parallel(n_jobs=-1)]: Done 2296 tasks      | elapsed:  1.0min\n",
      "[Parallel(n_jobs=-1)]: Done 3960 tasks      | elapsed:  1.3min\n",
      "[Parallel(n_jobs=-1)]: Done 5792 tasks      | elapsed:  1.8min\n",
      "[Parallel(n_jobs=-1)]: Done 7968 tasks      | elapsed:  2.2min\n",
      "[Parallel(n_jobs=-1)]: Done 10400 tasks      | elapsed:  2.6min\n",
      "[Parallel(n_jobs=-1)]: Done 13088 tasks      | elapsed:  3.1min\n",
      "[Parallel(n_jobs=-1)]: Done 16032 tasks      | elapsed:  3.6min\n",
      "[Parallel(n_jobs=-1)]: Done 19232 tasks      | elapsed:  4.2min\n",
      "[Parallel(n_jobs=-1)]: Done 22688 tasks      | elapsed:  4.8min\n",
      "[Parallel(n_jobs=-1)]: Done 26400 tasks      | elapsed:  5.5min\n",
      "[Parallel(n_jobs=-1)]: Done 30368 tasks      | elapsed:  6.2min\n",
      "[Parallel(n_jobs=-1)]: Done 34592 tasks      | elapsed:  6.8min\n",
      "[Parallel(n_jobs=-1)]: Done 39072 tasks      | elapsed:  7.4min\n",
      "[Parallel(n_jobs=-1)]: Done 43808 tasks      | elapsed:  8.1min\n",
      "[Parallel(n_jobs=-1)]: Done 48800 tasks      | elapsed:  8.9min\n",
      "[Parallel(n_jobs=-1)]: Done 54048 tasks      | elapsed:  9.7min\n",
      "[Parallel(n_jobs=-1)]: Done 59552 tasks      | elapsed: 10.4min\n",
      "[Parallel(n_jobs=-1)]: Done 65312 tasks      | elapsed: 11.2min\n",
      "[Parallel(n_jobs=-1)]: Done 71328 tasks      | elapsed: 12.0min\n",
      "[Parallel(n_jobs=-1)]: Done 77600 tasks      | elapsed: 12.9min\n",
      "[Parallel(n_jobs=-1)]: Done 84128 tasks      | elapsed: 13.8min\n",
      "[Parallel(n_jobs=-1)]: Done 90912 tasks      | elapsed: 14.9min\n",
      "[Parallel(n_jobs=-1)]: Done 97952 tasks      | elapsed: 16.0min\n",
      "[Parallel(n_jobs=-1)]: Done 105248 tasks      | elapsed: 17.1min\n",
      "[Parallel(n_jobs=-1)]: Done 112524 tasks      | elapsed: 18.3min\n",
      "[Parallel(n_jobs=-1)]: Done 120152 tasks      | elapsed: 20.9min\n",
      "[Parallel(n_jobs=-1)]: Done 127993 out of 128000 | elapsed: 23.2min remaining:    0.0s\n",
      "[Parallel(n_jobs=-1)]: Done 128000 out of 128000 | elapsed: 23.2min finished\n"
     ]
    },
    {
     "output_type": "execute_result",
     "data": {
      "text/plain": [
       "GridSearchCV(cv=10, estimator=DecisionTreeRegressor(), n_jobs=-1,\n",
       "             param_grid={'max_depth': [3, 4, 5, 6, 8, 10, 12, 15],\n",
       "                         'max_features': ['auto', 'sqrt', 'log2', None],\n",
       "                         'max_leaf_nodes': [None, 10, 20, 30, 40, 50, 60, 70],\n",
       "                         'min_samples_leaf': [1, 2, 3, 4, 5],\n",
       "                         'min_weight_fraction_leaf': [0.1, 0.2, 0.3, 0.4, 0.5],\n",
       "                         'splitter': ['best', 'random']},\n",
       "             scoring='neg_mean_squared_error', verbose=3)"
      ]
     },
     "metadata": {},
     "execution_count": 41
    }
   ],
   "metadata": {}
  },
  {
   "cell_type": "code",
   "execution_count": 42,
   "source": [
    "grid_search.best_params_"
   ],
   "outputs": [
    {
     "output_type": "execute_result",
     "data": {
      "text/plain": [
       "{'max_depth': 4,\n",
       " 'max_features': 'sqrt',\n",
       " 'max_leaf_nodes': 40,\n",
       " 'min_samples_leaf': 3,\n",
       " 'min_weight_fraction_leaf': 0.1,\n",
       " 'splitter': 'best'}"
      ]
     },
     "metadata": {},
     "execution_count": 42
    }
   ],
   "metadata": {}
  },
  {
   "cell_type": "code",
   "execution_count": 43,
   "source": [
    "grid_search.best_score_"
   ],
   "outputs": [
    {
     "output_type": "execute_result",
     "data": {
      "text/plain": [
       "-4205.553571915564"
      ]
     },
     "metadata": {},
     "execution_count": 43
    }
   ],
   "metadata": {}
  },
  {
   "cell_type": "markdown",
   "source": [
    "### Model Evaluation - HyperParameter Tuning"
   ],
   "metadata": {}
  },
  {
   "cell_type": "markdown",
   "source": [
    "> #### This will never lead to overfitting as we had done Hyperparameter Tuning. This will give us a generalized model."
   ],
   "metadata": {}
  },
  {
   "cell_type": "code",
   "execution_count": 45,
   "source": [
    "## Predict\r\n",
    "prediction = grid_search.predict(X_test)\r\n",
    "sns.distplot(y_test-prediction)"
   ],
   "outputs": [
    {
     "output_type": "execute_result",
     "data": {
      "text/plain": [
       "<AxesSubplot:xlabel='PM 2.5', ylabel='Density'>"
      ]
     },
     "metadata": {},
     "execution_count": 45
    },
    {
     "output_type": "display_data",
     "data": {
      "text/plain": [
       "<Figure size 432x288 with 1 Axes>"
      ],
      "image/png": "[encoded data removed]"
     },
     "metadata": {}
    }
   ],
   "metadata": {}
  },
  {
   "cell_type": "markdown",
   "source": [
    "## Regression Evaluation Metrics\r\n",
    "\r\n",
    "Here are three common evaluation metrics for regression problems:\r\n",
    "\r\n",
    "**Mean Absolute Error (MAE)** is the mean of the absolute value of the errors:\r\n",
    "\r\n",
    "$$\\frac 1n\\sum_{i=1}^n|y_i-\\hat{y}_i|$$\r\n",
    "\r\n",
    "**Mean Squared Error (MSE)** is the mean of the squared errors:\r\n",
    "\r\n",
    "$$\\frac 1n\\sum_{i=1}^n(y_i-\\hat{y}_i)^2$$\r\n",
    "\r\n",
    "**Root Mean Squared Error (RMSE)** is the square root of the mean of the squared errors:\r\n",
    "\r\n",
    "$$\\sqrt{\\frac 1n\\sum_{i=1}^n(y_i-\\hat{y}_i)^2}$$\r\n",
    "\r\n",
    "### Comparing these metrics:\r\n",
    "\r\n",
    "- MAE is the easiest to understand, because it's the average error.\r\n",
    "- MSE is more popular than MAE, because MSE \"punishes\" larger errors, which tends to be useful in the real world.\r\n",
    "- RMSE is even more popular than MSE, because RMSE is interpretable in the \"y\" units.\r\n",
    "\r\n",
    "All of these are loss functions, because we want to minimize them.\r\n",
    "\r\n"
   ],
   "metadata": {}
  },
  {
   "cell_type": "code",
   "execution_count": 47,
   "source": [
    "from sklearn import metrics\r\n",
    "print('MAE: ', metrics.mean_absolute_error(y_test, prediction))\r\n",
    "print('MSE: ', metrics.mean_squared_error(y_test, prediction))\r\n",
    "print('RMSE: ', np.sqrt(metrics.mean_squared_error(y_test, prediction)))"
   ],
   "outputs": [
    {
     "output_type": "stream",
     "name": "stdout",
     "text": [
      "MAE:  48.2723599757697\n",
      "MSE:  4013.838402899022\n",
      "RMSE:  63.35486092557557\n"
     ]
    }
   ],
   "metadata": {}
  },
  {
   "cell_type": "code",
   "execution_count": 48,
   "source": [
    "import pickle\r\n",
    "\r\n",
    "## Open a file, where we want to store the data.\r\n",
    "file = open('decision_tree_model.pkl', 'wb')\r\n",
    "\r\n",
    "## Dump all the information to this file.\r\n",
    "pickle.dump(grid_search, file)"
   ],
   "outputs": [],
   "metadata": {}
  },
  {
   "cell_type": "code",
   "execution_count": null,
   "source": [],
   "outputs": [],
   "metadata": {}
  },
  {
   "cell_type": "code",
   "execution_count": null,
   "source": [],
   "outputs": [],
   "metadata": {}
  }
 ],
 "metadata": {
  "orig_nbformat": 4,
  "language_info": {
   "name": "python"
  }
 },
 "nbformat": 4,
 "nbformat_minor": 2
}