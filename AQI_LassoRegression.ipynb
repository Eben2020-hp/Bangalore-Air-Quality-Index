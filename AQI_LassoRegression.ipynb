{
 "cells": [
  {
   "cell_type": "markdown",
   "source": [
    "<h1 align='center'>  Bangalore Air Quality Prediction </h1>\r\n",
    "<h3 align='center'>  To predict the Air Quality of Bangalore City from 2013-2018 </h3>"
   ],
   "metadata": {}
  },
  {
   "cell_type": "markdown",
   "source": [
    "## 0. Import relevant Dependencies\r\n",
    "\r\n",
    "Incase you are getting any error saying the package is not installed while running the below cell, then you can use two methods:\r\n",
    "- pip install ________.\r\n",
    "- google 'How to install ________'."
   ],
   "metadata": {}
  },
  {
   "cell_type": "code",
   "execution_count": 1,
   "source": [
    "# Import Dependencies -To see the graphs in the notebook.\r\n",
    "%matplotlib inline   \r\n",
    "\r\n",
    "# Python Imports\r\n",
    "import math,time,random,datetime\r\n",
    "\r\n",
    "# Data Manipulation\r\n",
    "import numpy as np\r\n",
    "import pandas as pd\r\n",
    "\r\n",
    "# Visualization -This is where the graphs come in.\r\n",
    "import matplotlib.pyplot as plt\r\n",
    "import seaborn as sns\r\n",
    "import missingno\r\n",
    "plt.style.use('fivethirtyeight')\r\n",
    "\r\n",
    "# Preprocessing\r\n",
    "from sklearn.preprocessing import OneHotEncoder, LabelEncoder, label_binarize\r\n",
    "\r\n",
    "# Ignore Warnings\r\n",
    "import warnings\r\n",
    "warnings.filterwarnings('ignore')\r\n",
    "\r\n",
    "# Display all the columns/rows of the DataFrame.\r\n",
    "pd.set_option('display.max_columns', None)\r\n",
    "pd.set_option('display.max_rows', None)"
   ],
   "outputs": [],
   "metadata": {}
  },
  {
   "cell_type": "markdown",
   "source": [
    "## 1. Loading the required Data"
   ],
   "metadata": {}
  },
  {
   "cell_type": "code",
   "execution_count": 2,
   "source": [
    "df = pd.read_csv('Data/Real-Data/Real_Combine.csv')\r\n",
    "df.head()"
   ],
   "outputs": [
    {
     "output_type": "execute_result",
     "data": {
      "text/plain": [
       "      T    TM    Tm     H   VV    V   VM      PM 2.5\n",
       "0  23.4  30.3  19.0  59.0  6.3  4.3  5.4  284.795833\n",
       "1  22.4  30.3  16.9  57.0  6.9  3.3  7.6  219.720833\n",
       "2  24.0  31.8  16.9  51.0  6.9  2.8  5.4  182.187500\n",
       "3  22.8  30.2  17.6  55.0  7.7  3.7  7.6  154.037500\n",
       "4  23.1  30.6  17.4  46.0  6.9  3.3  5.4  223.208333"
      ],
      "text/html": [
       "<div>\n",
       "<style scoped>\n",
       "    .dataframe tbody tr th:only-of-type {\n",
       "        vertical-align: middle;\n",
       "    }\n",
       "\n",
       "    .dataframe tbody tr th {\n",
       "        vertical-align: top;\n",
       "    }\n",
       "\n",
       "    .dataframe thead th {\n",
       "        text-align: right;\n",
       "    }\n",
       "</style>\n",
       "<table border=\"1\" class=\"dataframe\">\n",
       "  <thead>\n",
       "    <tr style=\"text-align: right;\">\n",
       "      <th></th>\n",
       "      <th>T</th>\n",
       "      <th>TM</th>\n",
       "      <th>Tm</th>\n",
       "      <th>H</th>\n",
       "      <th>VV</th>\n",
       "      <th>V</th>\n",
       "      <th>VM</th>\n",
       "      <th>PM 2.5</th>\n",
       "    </tr>\n",
       "  </thead>\n",
       "  <tbody>\n",
       "    <tr>\n",
       "      <th>0</th>\n",
       "      <td>23.4</td>\n",
       "      <td>30.3</td>\n",
       "      <td>19.0</td>\n",
       "      <td>59.0</td>\n",
       "      <td>6.3</td>\n",
       "      <td>4.3</td>\n",
       "      <td>5.4</td>\n",
       "      <td>284.795833</td>\n",
       "    </tr>\n",
       "    <tr>\n",
       "      <th>1</th>\n",
       "      <td>22.4</td>\n",
       "      <td>30.3</td>\n",
       "      <td>16.9</td>\n",
       "      <td>57.0</td>\n",
       "      <td>6.9</td>\n",
       "      <td>3.3</td>\n",
       "      <td>7.6</td>\n",
       "      <td>219.720833</td>\n",
       "    </tr>\n",
       "    <tr>\n",
       "      <th>2</th>\n",
       "      <td>24.0</td>\n",
       "      <td>31.8</td>\n",
       "      <td>16.9</td>\n",
       "      <td>51.0</td>\n",
       "      <td>6.9</td>\n",
       "      <td>2.8</td>\n",
       "      <td>5.4</td>\n",
       "      <td>182.187500</td>\n",
       "    </tr>\n",
       "    <tr>\n",
       "      <th>3</th>\n",
       "      <td>22.8</td>\n",
       "      <td>30.2</td>\n",
       "      <td>17.6</td>\n",
       "      <td>55.0</td>\n",
       "      <td>7.7</td>\n",
       "      <td>3.7</td>\n",
       "      <td>7.6</td>\n",
       "      <td>154.037500</td>\n",
       "    </tr>\n",
       "    <tr>\n",
       "      <th>4</th>\n",
       "      <td>23.1</td>\n",
       "      <td>30.6</td>\n",
       "      <td>17.4</td>\n",
       "      <td>46.0</td>\n",
       "      <td>6.9</td>\n",
       "      <td>3.3</td>\n",
       "      <td>5.4</td>\n",
       "      <td>223.208333</td>\n",
       "    </tr>\n",
       "  </tbody>\n",
       "</table>\n",
       "</div>"
      ]
     },
     "metadata": {},
     "execution_count": 2
    }
   ],
   "metadata": {}
  },
  {
   "cell_type": "code",
   "execution_count": 3,
   "source": [
    "print('Dimensionality of the obtained Data is: ', df.shape)"
   ],
   "outputs": [
    {
     "output_type": "stream",
     "name": "stdout",
     "text": [
      "Dimensionality of the obtained Data is:  (737, 8)\n"
     ]
    }
   ],
   "metadata": {}
  },
  {
   "cell_type": "markdown",
   "source": [
    "## 2. Feature Engineering"
   ],
   "metadata": {}
  },
  {
   "cell_type": "code",
   "execution_count": 4,
   "source": [
    "# Understanding more about the missing value columns\r\n",
    "\r\n",
    "def missing_values_table(df):\r\n",
    "    # number of missing values\r\n",
    "    mis_val = df.isnull().sum()\r\n",
    "\r\n",
    "    # % of missing values\r\n",
    "    mis_val_percent = 100 * mis_val / len(df)\r\n",
    "\r\n",
    "    # make table # axis '0' concat along index, '1' column\r\n",
    "    mis_val_table = pd.concat([mis_val,mis_val_percent], axis= 1) \r\n",
    "\r\n",
    "    # rename columns\r\n",
    "    mis_val_table_ren_columns = mis_val_table.rename(columns = {0: 'Missing Values', 1: '% of Total Values'})\r\n",
    "\r\n",
    "    # sort by column\r\n",
    "    mis_val_table_ren_columns = mis_val_table_ren_columns[mis_val_table_ren_columns.iloc[:,1]!= 0].sort_values(\r\n",
    "        '% of Total Values', ascending= False).round(1) #Review\r\n",
    "    print(\"Your selected dataset has \" + str(df.shape[1]) + \" columns and \" + str(len(df)) + \" observations.\\n\"\r\n",
    "         \"\\n There are \" + str(mis_val_table_ren_columns.shape[0]) + \" columns that have missing values.\")\r\n",
    "    \r\n",
    "    # return the dataframe with missing info\r\n",
    "    return mis_val_table_ren_columns\r\n",
    "\r\n",
    "missing_values_table(df)"
   ],
   "outputs": [
    {
     "output_type": "stream",
     "name": "stdout",
     "text": [
      "Your selected dataset has 8 columns and 737 observations.\n",
      "\n",
      " There are 1 columns that have missing values.\n"
     ]
    },
    {
     "output_type": "execute_result",
     "data": {
      "text/plain": [
       "        Missing Values  % of Total Values\n",
       "PM 2.5               1                0.1"
      ],
      "text/html": [
       "<div>\n",
       "<style scoped>\n",
       "    .dataframe tbody tr th:only-of-type {\n",
       "        vertical-align: middle;\n",
       "    }\n",
       "\n",
       "    .dataframe tbody tr th {\n",
       "        vertical-align: top;\n",
       "    }\n",
       "\n",
       "    .dataframe thead th {\n",
       "        text-align: right;\n",
       "    }\n",
       "</style>\n",
       "<table border=\"1\" class=\"dataframe\">\n",
       "  <thead>\n",
       "    <tr style=\"text-align: right;\">\n",
       "      <th></th>\n",
       "      <th>Missing Values</th>\n",
       "      <th>% of Total Values</th>\n",
       "    </tr>\n",
       "  </thead>\n",
       "  <tbody>\n",
       "    <tr>\n",
       "      <th>PM 2.5</th>\n",
       "      <td>1</td>\n",
       "      <td>0.1</td>\n",
       "    </tr>\n",
       "  </tbody>\n",
       "</table>\n",
       "</div>"
      ]
     },
     "metadata": {},
     "execution_count": 4
    }
   ],
   "metadata": {}
  },
  {
   "cell_type": "code",
   "execution_count": 5,
   "source": [
    "## Dropping the Null Values\r\n",
    "df = df.dropna()"
   ],
   "outputs": [],
   "metadata": {}
  },
  {
   "cell_type": "code",
   "execution_count": 6,
   "source": [
    "## Splitting our Data to Dependent and Independent Features\r\n",
    "X = df.iloc[:,:-1] ### Independent Features\r\n",
    "y = df.iloc[:,-1] ### Dependent Features"
   ],
   "outputs": [],
   "metadata": {}
  },
  {
   "cell_type": "markdown",
   "source": [
    "## 3. Comparing Linear, Ridge and Lasso Regression"
   ],
   "metadata": {}
  },
  {
   "cell_type": "code",
   "execution_count": 17,
   "source": [
    "from sklearn.model_selection import train_test_split\r\n",
    "X_train, X_test, y_train, y_test = train_test_split(X, y, test_size= 0.3, random_state= 42)"
   ],
   "outputs": [],
   "metadata": {}
  },
  {
   "cell_type": "markdown",
   "source": [
    "### 3.1 Linear Regression Model"
   ],
   "metadata": {}
  },
  {
   "cell_type": "code",
   "execution_count": 7,
   "source": [
    "from sklearn.model_selection import cross_val_score\r\n",
    "from sklearn.linear_model import LinearRegression"
   ],
   "outputs": [],
   "metadata": {}
  },
  {
   "cell_type": "code",
   "execution_count": 18,
   "source": [
    "lin_reg = LinearRegression()        ## Initialize Linear Regression.\r\n",
    "mse = cross_val_score(lin_reg, X_train, y_train, scoring= 'neg_mean_squared_error', cv= 5)\r\n",
    "mean_mse = np.mean(mse)\r\n",
    "print(mean_mse)"
   ],
   "outputs": [
    {
     "output_type": "stream",
     "name": "stdout",
     "text": [
      "-4469.5506911236025\n"
     ]
    }
   ],
   "metadata": {}
  },
  {
   "cell_type": "markdown",
   "source": [
    "### 3.2 Ridge Regression Model"
   ],
   "metadata": {}
  },
  {
   "cell_type": "code",
   "execution_count": 10,
   "source": [
    "from sklearn.linear_model import Ridge\r\n",
    "from sklearn.model_selection import GridSearchCV        ## To obtain the optimal Lambda value."
   ],
   "outputs": [],
   "metadata": {}
  },
  {
   "cell_type": "code",
   "execution_count": 19,
   "source": [
    "ridge = Ridge()\r\n",
    "parameters = {'alpha': [1e-15, 1e-10, 1e-8, 1e-5, 1e-3, 1e-2, 1, 5, 8, 10, 15, 20, 30, 35, 40]}     ## Lambda can be any positive number.\r\n",
    "ridge_reg = GridSearchCV(ridge, param_grid= parameters, scoring= 'neg_mean_squared_error', cv= 5)\r\n",
    "ridge_reg.fit(X_train, y_train)"
   ],
   "outputs": [
    {
     "output_type": "execute_result",
     "data": {
      "text/plain": [
       "GridSearchCV(cv=5, estimator=Ridge(),\n",
       "             param_grid={'alpha': [1e-15, 1e-10, 1e-08, 1e-05, 0.001, 0.01, 1,\n",
       "                                   5, 8, 10, 15, 20, 30, 35, 40]},\n",
       "             scoring='neg_mean_squared_error')"
      ]
     },
     "metadata": {},
     "execution_count": 19
    }
   ],
   "metadata": {}
  },
  {
   "cell_type": "code",
   "execution_count": 20,
   "source": [
    "print('Best Alpha value: ', ridge_reg.best_params_)\r\n",
    "print('Best Score (MSE): ', ridge_reg.best_score_)"
   ],
   "outputs": [
    {
     "output_type": "stream",
     "name": "stdout",
     "text": [
      "Best Alpha value:  {'alpha': 40}\n",
      "Best Score (MSE):  -4456.011822992436\n"
     ]
    }
   ],
   "metadata": {}
  },
  {
   "cell_type": "markdown",
   "source": [
    "### 3.3 Lasso Regression Model"
   ],
   "metadata": {}
  },
  {
   "cell_type": "code",
   "execution_count": 14,
   "source": [
    "from sklearn.linear_model import Lasso\r\n",
    "from sklearn.model_selection import GridSearchCV        ## To obtain the optimal Lambda value."
   ],
   "outputs": [],
   "metadata": {}
  },
  {
   "cell_type": "code",
   "execution_count": 21,
   "source": [
    "lasso = Lasso()\r\n",
    "parameters = {'alpha': [1e-15, 1e-10, 1e-8, 1e-5, 1e-3, 1e-2, 1, 5, 8, 10, 15, 20, 30, 35, 40]}     ## Lambda can be any positive number.\r\n",
    "lasso_reg = GridSearchCV(lasso, param_grid= parameters, scoring= 'neg_mean_squared_error', cv= 5)\r\n",
    "lasso_reg.fit(X_train, y_train)"
   ],
   "outputs": [
    {
     "output_type": "execute_result",
     "data": {
      "text/plain": [
       "GridSearchCV(cv=5, estimator=Lasso(),\n",
       "             param_grid={'alpha': [1e-15, 1e-10, 1e-08, 1e-05, 0.001, 0.01, 1,\n",
       "                                   5, 8, 10, 15, 20, 30, 35, 40]},\n",
       "             scoring='neg_mean_squared_error')"
      ]
     },
     "metadata": {},
     "execution_count": 21
    }
   ],
   "metadata": {}
  },
  {
   "cell_type": "code",
   "execution_count": 22,
   "source": [
    "print('Best Alpha value: ', lasso_reg.best_params_)\r\n",
    "print('Best Score (MSE): ', lasso_reg.best_score_)"
   ],
   "outputs": [
    {
     "output_type": "stream",
     "name": "stdout",
     "text": [
      "Best Alpha value:  {'alpha': 5}\n",
      "Best Score (MSE):  -4429.974047782635\n"
     ]
    }
   ],
   "metadata": {}
  },
  {
   "cell_type": "markdown",
   "source": [
    "### Model Evaluation"
   ],
   "metadata": {}
  },
  {
   "cell_type": "code",
   "execution_count": 23,
   "source": [
    "## Predict\r\n",
    "prediction = lasso_reg.predict(X_test)\r\n",
    "sns.distplot(y_test-prediction)"
   ],
   "outputs": [
    {
     "output_type": "execute_result",
     "data": {
      "text/plain": [
       "<AxesSubplot:xlabel='PM 2.5', ylabel='Density'>"
      ]
     },
     "metadata": {},
     "execution_count": 23
    },
    {
     "output_type": "display_data",
     "data": {
      "text/plain": [
       "<Figure size 432x288 with 1 Axes>"
      ],
      "image/png": "[encoded data removed]"
     },
     "metadata": {}
    }
   ],
   "metadata": {}
  },
  {
   "cell_type": "markdown",
   "source": [
    "- ### The difference between y_test and the prediction is almost a bell curve. Thus it is almost Gaussian."
   ],
   "metadata": {}
  },
  {
   "cell_type": "code",
   "execution_count": 24,
   "source": [
    "plt.scatter(y_test, prediction)"
   ],
   "outputs": [
    {
     "output_type": "execute_result",
     "data": {
      "text/plain": [
       "<matplotlib.collections.PathCollection at 0x2860031bb50>"
      ]
     },
     "metadata": {},
     "execution_count": 24
    },
    {
     "output_type": "display_data",
     "data": {
      "text/plain": [
       "<Figure size 432x288 with 1 Axes>"
      ],
      "image/png": "[encoded data removed]"
     },
     "metadata": {}
    }
   ],
   "metadata": {}
  },
  {
   "cell_type": "markdown",
   "source": [
    "## Regression Evaluation Metrics\r\n",
    "\r\n",
    "Here are three common evaluation metrics for regression problems:\r\n",
    "\r\n",
    "**Mean Absolute Error (MAE)** is the mean of the absolute value of the errors:\r\n",
    "\r\n",
    "$$\\frac 1n\\sum_{i=1}^n|y_i-\\hat{y}_i|$$\r\n",
    "\r\n",
    "**Mean Squared Error (MSE)** is the mean of the squared errors:\r\n",
    "\r\n",
    "$$\\frac 1n\\sum_{i=1}^n(y_i-\\hat{y}_i)^2$$\r\n",
    "\r\n",
    "**Root Mean Squared Error (RMSE)** is the square root of the mean of the squared errors:\r\n",
    "\r\n",
    "$$\\sqrt{\\frac 1n\\sum_{i=1}^n(y_i-\\hat{y}_i)^2}$$\r\n",
    "\r\n",
    "### Comparing these metrics:\r\n",
    "\r\n",
    "- MAE is the easiest to understand, because it's the average error.\r\n",
    "- MSE is more popular than MAE, because MSE \"punishes\" larger errors, which tends to be useful in the real world.\r\n",
    "- RMSE is even more popular than MSE, because RMSE is interpretable in the \"y\" units.\r\n",
    "\r\n",
    "All of these are loss functions, because we want to minimize them.\r\n",
    "\r\n"
   ],
   "metadata": {}
  },
  {
   "cell_type": "code",
   "execution_count": 25,
   "source": [
    "from sklearn import metrics\r\n",
    "print('MAE: ', metrics.mean_absolute_error(y_test, prediction))\r\n",
    "print('MSE: ', metrics.mean_squared_error(y_test, prediction))\r\n",
    "print('RMSE: ', np.sqrt(metrics.mean_squared_error(y_test, prediction)))"
   ],
   "outputs": [
    {
     "output_type": "stream",
     "name": "stdout",
     "text": [
      "MAE:  51.68769906863978\n",
      "MSE:  4065.0328838238293\n",
      "RMSE:  63.75761039926002\n"
     ]
    }
   ],
   "metadata": {}
  },
  {
   "cell_type": "code",
   "execution_count": 26,
   "source": [
    "import pickle\r\n",
    "\r\n",
    "## Open a file, where we want to store the data.\r\n",
    "file = open('lasso_regression_model.pkl', 'wb')\r\n",
    "\r\n",
    "## Dump all the information to this file.\r\n",
    "pickle.dump(lasso_reg, file)"
   ],
   "outputs": [],
   "metadata": {}
  },
  {
   "cell_type": "code",
   "execution_count": null,
   "source": [],
   "outputs": [],
   "metadata": {}
  }
 ],
 "metadata": {
  "orig_nbformat": 4,
  "language_info": {
   "name": "python"
  }
 },
 "nbformat": 4,
 "nbformat_minor": 2
}